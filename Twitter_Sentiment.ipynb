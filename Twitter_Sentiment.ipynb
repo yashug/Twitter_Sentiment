{
 "cells": [
  {
   "cell_type": "code",
   "execution_count": 11,
   "metadata": {},
   "outputs": [],
   "source": [
    "# tweepy: An easy-to-use Python library for accessing the Twitter API\n",
    "\n",
    "import tweepy\n",
    "from textblob import TextBlob\n",
    "\n",
    "import pandas as pd"
   ]
  },
  {
   "cell_type": "code",
   "execution_count": 6,
   "metadata": {},
   "outputs": [],
   "source": [
    "# Authenticate\n",
    "\n",
    "consumer_key= 'H1zGygNAZb3XUCIMCWb65kzJT'\n",
    "consumer_secret= '08OW1zhVJKN0Es1UFdVEj1hLfV8GKi6OVKceTkHC2xHVMicv2N'\n",
    "\n",
    "access_token='75004733-oyCBHbiZITPEoOS3LJ12pGhUymykPn5AD1PGXkYpZ'\n",
    "access_token_secret='YcDL7H8radCqmoN1PKucrP6z6FQYWozvsyOErn99KSUr8'\n",
    "\n",
    "auth = tweepy.OAuthHandler(consumer_key, consumer_secret)\n",
    "auth.set_access_token(access_token, access_token_secret)\n",
    "\n",
    "api = tweepy.API(auth)"
   ]
  },
  {
   "cell_type": "code",
   "execution_count": 14,
   "metadata": {},
   "outputs": [],
   "source": [
    "# Get tweets by given string\n",
    "\n",
    "public_tweets = api.search('Trump')"
   ]
  },
  {
   "cell_type": "code",
   "execution_count": 20,
   "metadata": {},
   "outputs": [],
   "source": [
    "df_list = []\n",
    "for tweet in public_tweets:\n",
    "    internal_list = []\n",
    "    internal_list.append(tweet.text)\n",
    "    internal_list.append(TextBlob(tweet.text).sentiment.polarity)\n",
    "    df_list.append(internal_list)"
   ]
  },
  {
   "cell_type": "code",
   "execution_count": 26,
   "metadata": {},
   "outputs": [],
   "source": [
    "sentiment_df = pd.DataFrame(df_list, columns=['Tweet', 'Sentiment'])\n",
    "sentiment_df['Sentiment'] = sentiment_df['Sentiment'].apply(lambda r: 'Negative' if r<0 else 'Positive')\n",
    "sentiment_df.to_csv('twitter_analysis.csv')"
   ]
  }
 ],
 "metadata": {
  "kernelspec": {
   "display_name": "Python 3",
   "language": "python",
   "name": "python3"
  },
  "language_info": {
   "codemirror_mode": {
    "name": "ipython",
    "version": 3
   },
   "file_extension": ".py",
   "mimetype": "text/x-python",
   "name": "python",
   "nbconvert_exporter": "python",
   "pygments_lexer": "ipython3",
   "version": "3.6.1"
  }
 },
 "nbformat": 4,
 "nbformat_minor": 2
}
